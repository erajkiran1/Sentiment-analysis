{
 "cells": [
  {
   "cell_type": "code",
   "execution_count": 1,
   "id": "0bce4e97",
   "metadata": {},
   "outputs": [],
   "source": [
    "from textblob import TextBlob\n",
    "import nltk"
   ]
  },
  {
   "cell_type": "code",
   "execution_count": 2,
   "id": "68295664",
   "metadata": {},
   "outputs": [],
   "source": [
    "def senti_analysis():\n",
    "  text = input(\"enter text my Dear : \")\n",
    "  print(\"\\n\")\n",
    "  print(\"Given Text is : \")  \n",
    "  print(text)\n",
    "  print(\"\\n\")\n",
    "\n",
    "  obj = TextBlob(text)\n",
    "\n",
    "  sentiment = obj.sentiment.polarity\n",
    "  #print(sentiment)\n",
    "  #print(\"\\n\")\n",
    "\n",
    "  if sentiment == 0:\n",
    "    print(\"This is Neutral\")\n",
    "  elif sentiment > 0 : \n",
    "    print(\"This is Positive\")\n",
    "  else :\n",
    "    print(\"This is Negative\")"
   ]
  },
  {
   "cell_type": "code",
   "execution_count": 3,
   "id": "9f1223bc",
   "metadata": {},
   "outputs": [
    {
     "name": "stdout",
     "output_type": "stream",
     "text": [
      "enter text my Dear : RAJ KIRAN\n",
      "\n",
      "\n",
      "Given Text is : \n",
      "RAJ KIRAN\n",
      "\n",
      "\n",
      "This is Neutral\n"
     ]
    }
   ],
   "source": [
    "senti_analysis()"
   ]
  },
  {
   "cell_type": "code",
   "execution_count": 4,
   "id": "442c2571",
   "metadata": {},
   "outputs": [
    {
     "name": "stdout",
     "output_type": "stream",
     "text": [
      "enter text my Dear : BJP-backed candidates win 630 out of 825 block pramukh seats\n",
      "\n",
      "\n",
      "Given Text is : \n",
      "BJP-backed candidates win 630 out of 825 block pramukh seats\n",
      "\n",
      "\n",
      "This is Positive\n"
     ]
    }
   ],
   "source": [
    "senti_analysis()"
   ]
  },
  {
   "cell_type": "code",
   "execution_count": 5,
   "id": "71fa56d8",
   "metadata": {},
   "outputs": [
    {
     "name": "stdout",
     "output_type": "stream",
     "text": [
      "enter text my Dear : Travelers are required to make online booking of their accommodation in Mussoorie after getting negative reports of RT-PCR tests. Those without a Covid-19 negative report would be denied entry\n",
      "\n",
      "\n",
      "Given Text is : \n",
      "Travelers are required to make online booking of their accommodation in Mussoorie after getting negative reports of RT-PCR tests. Those without a Covid-19 negative report would be denied entry\n",
      "\n",
      "\n",
      "This is Negative\n"
     ]
    }
   ],
   "source": [
    "senti_analysis()"
   ]
  },
  {
   "cell_type": "code",
   "execution_count": null,
   "id": "225fc6b1",
   "metadata": {},
   "outputs": [],
   "source": []
  }
 ],
 "metadata": {
  "kernelspec": {
   "display_name": "Python 3",
   "language": "python",
   "name": "python3"
  },
  "language_info": {
   "codemirror_mode": {
    "name": "ipython",
    "version": 3
   },
   "file_extension": ".py",
   "mimetype": "text/x-python",
   "name": "python",
   "nbconvert_exporter": "python",
   "pygments_lexer": "ipython3",
   "version": "3.8.8"
  }
 },
 "nbformat": 4,
 "nbformat_minor": 5
}
